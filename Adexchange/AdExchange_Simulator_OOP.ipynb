{
 "cells": [
  {
   "cell_type": "code",
   "execution_count": 16,
   "metadata": {},
   "outputs": [],
   "source": [
    "import pandas as pd\n",
    "import numpy as np\n",
    "from sklearn.metrics.pairwise import cosine_similarity\n"
   ]
  },
  {
   "cell_type": "code",
   "execution_count": 17,
   "metadata": {},
   "outputs": [],
   "source": [
    "# Take from https://stackoverflow.com/questions/37292872/how-can-i-one-hot-encode-in-python\n",
    "# for one hot encoding \n",
    "# It does one_hot encoding and remove the original column for calculating similarity\n",
    "def encode_and_bind(original_dataframe, feature_to_encode):\n",
    "    dummies = pd.get_dummies(original_dataframe[[feature_to_encode]])\n",
    "    res = pd.concat([original_dataframe, dummies], axis=1)\n",
    "    res = res.drop([feature_to_encode], axis=1)\n",
    "    return(res) "
   ]
  },
  {
   "cell_type": "markdown",
   "metadata": {},
   "source": [
    "## To Do List\n",
    "1. UML Class Diagram\n",
    "2. Implement the same code in the OOP concepts\n",
    "3. Upload it on the github and add Prof. Charles"
   ]
  },
  {
   "cell_type": "code",
   "execution_count": 18,
   "metadata": {},
   "outputs": [
    {
     "name": "stdout",
     "output_type": "stream",
     "text": [
      "('Diptendra', 28, 'M', 'mobile', 13)\n"
     ]
    },
    {
     "data": {
      "text/plain": [
       "tuple"
      ]
     },
     "execution_count": 18,
     "metadata": {},
     "output_type": "execute_result"
    }
   ],
   "source": [
    "# Object Oriented \n",
    "# The code below is being taken from \n",
    "# https://stackoverflow.com/questions/46466588/generating-random-number-for-class-attribute\n",
    "# Class creation\n",
    "# User Class - It defines a user attributes like age, interest, browsing patter, etc. to mimic the \n",
    "# data that we get from cookies\n",
    "import pandas as pd\n",
    "import numpy as np\n",
    "from sklearn.metrics.pairwise import cosine_similarity\n",
    "from numpy import random\n",
    "\n",
    "class Internet_User():\n",
    "\n",
    "    # An Internet User attributes - name, age, gender, last_purchase_item, time_spent_on_browsing\n",
    "    def __init__(self, name, age=None, gender=None, last_purchase_item=None, time_spent_on_browsing=None):\n",
    "        self.name = name\n",
    "        if age is None:\n",
    "            age = random.randint(15,50)\n",
    "        if gender is None:\n",
    "            gender = np.random.choice([\"M\", \"F\"], p = [0.4, 0.6])\n",
    "        if last_purchase_item is None:\n",
    "            # Creat a dictionary of brands for this internet user \n",
    "            last_purchase_item = np.random.choice(list(dict_items_brands))\n",
    "        if time_spent_on_browsing is None:\n",
    "            time_spent_on_browsing = np.random.randint(3, 180)\n",
    "        self.age = age\n",
    "        self.gender = gender\n",
    "        self.last_purchase_item = last_purchase_item\n",
    "        self.time_spent_on_browsing = time_spent_on_browsing\n",
    "        self.all_attributes = (self.name, \n",
    "                               self.age, \n",
    "                               self.gender, \n",
    "                               self.last_purchase_item, \n",
    "                               self.time_spent_on_browsing)\n",
    "    \n",
    "    # Returns the all_attributes of the unique internet user\n",
    "    def getAttribute(self):\n",
    "        return self.all_attributes    \n",
    "\n",
    "# Check the Internet user class\n",
    "check_user = Internet_User(\"Diptendra\", last_purchase_item=\"mobile\")\n",
    "print(check_user.getAttribute())\n",
    "type(check_user.getAttribute())\n"
   ]
  },
  {
   "cell_type": "code",
   "execution_count": 19,
   "metadata": {},
   "outputs": [
    {
     "name": "stdout",
     "output_type": "stream",
     "text": [
      "('www.google.com', 'bottom_right', 4)\n"
     ]
    },
    {
     "data": {
      "text/plain": [
       "tuple"
      ]
     },
     "execution_count": 19,
     "metadata": {},
     "output_type": "execute_result"
    }
   ],
   "source": [
    "# Webpage class \n",
    "class Webpage():\n",
    "    # Attributes of the webpage for providing the space for an ad\n",
    "    def __init__(self, url, place_on_the_page=None, reservation_prc=None):\n",
    "        self.url = url\n",
    "        if place_on_the_page is None:\n",
    "            place_on_the_page = np.random.choice([\"top_left\", \"bottom_left\", \"top_right\", \"bottom_right\"],\n",
    "                                                      p = [0.25, 0.25, 0.25, 0.25])\n",
    "        if reservation_prc is None:\n",
    "            reservation_prc = int(np.random.randint(0.5, 9))\n",
    "        \n",
    "        self.place_on_the_page = place_on_the_page\n",
    "        self.reservation_prc = reservation_prc\n",
    "        self.all_attributes = (self.url, \n",
    "                              self.place_on_the_page, \n",
    "                              self.reservation_prc)\n",
    "        \n",
    "    def getAttribute(self):\n",
    "        return self.all_attributes\n",
    "\n",
    "# Create an object of class webpage and check if all the functions are working or not    \n",
    "check_webpage = Webpage(url = \"www.google.com\")\n",
    "print(check_webpage.getAttribute())\n",
    "type(check_webpage.getAttribute())"
   ]
  },
  {
   "cell_type": "code",
   "execution_count": 20,
   "metadata": {},
   "outputs": [
    {
     "name": "stdout",
     "output_type": "stream",
     "text": [
      "(200, 2, 4, 'A', 'Y')\n"
     ]
    },
    {
     "data": {
      "text/plain": [
       "tuple"
      ]
     },
     "execution_count": 20,
     "metadata": {},
     "output_type": "execute_result"
    }
   ],
   "source": [
    "class Advertiser():\n",
    "    \n",
    "    # This is an advertiser class who wants to advertise something on the webpage for a unique user \n",
    "    # Attributes of an ad\n",
    "    def __init__(self, budget, max_prc, ad_creativity_score = None, type_of_ad = None, bool_link_embedded = None):\n",
    "        self.budget = budget\n",
    "        self.max_prc = max_prc\n",
    "        if ad_creativity_score is None:\n",
    "            ad_creativity_score = np.random.randint(1, 5)\n",
    "        if type_of_ad is None:\n",
    "            type_of_ad = np.random.choice([\"T\", \"A\", \"V\"], p = [0.7, 0.2, 0.1])\n",
    "        if bool_link_embedded is None:\n",
    "            bool_link_embedded = np.random.choice([\"Y\", \"N\"], p = [0.7, 0.3])\n",
    "        self.ad_creativity_score = ad_creativity_score\n",
    "        self.type_of_ad = type_of_ad\n",
    "        self.bool_link_embedded = bool_link_embedded\n",
    "        self.all_attributes = (self.budget,\n",
    "                               self.max_prc, \n",
    "                               self.ad_creativity_score, \n",
    "                               self.type_of_ad, \n",
    "                               self.bool_link_embedded\n",
    "                              )\n",
    "        \n",
    "    def getAttribute(self):\n",
    "        return self.all_attributes\n",
    "    \n",
    "#    def decrease_budget(self):\n",
    " #       self.budget = self.budget\n",
    "    \n",
    "# Create an object of class webpage and check if all the functions are working or not    \n",
    "check_advertiser = Advertiser(budget= 200, max_prc=2)\n",
    "print(check_advertiser.getAttribute())\n",
    "type(check_advertiser.getAttribute())  "
   ]
  },
  {
   "cell_type": "code",
   "execution_count": 21,
   "metadata": {},
   "outputs": [
    {
     "name": "stdout",
     "output_type": "stream",
     "text": [
      "[('Diptendra', 28, 'M', 'mobile', 13), ('www.google.com', 'bottom_right', 4)]\n"
     ]
    },
    {
     "data": {
      "text/plain": [
       "list"
      ]
     },
     "execution_count": 21,
     "metadata": {},
     "output_type": "execute_result"
    }
   ],
   "source": [
    "class user_on_a_webpage():\n",
    "    def __init__(self, internet_user, webpage):\n",
    "        self.user = internet_user.getAttribute()\n",
    "        self.webpage = webpage.getAttribute()\n",
    "        self.user_on_webpage = [self.user, self.webpage]\n",
    "        \n",
    "    def getAttribute(self):\n",
    "        return self.user_on_webpage    \n",
    "\n",
    "# Create an object of class webpage and check if all the functions are working or not    \n",
    "check_user_on_a_webpage = user_on_a_webpage(internet_user=check_user, webpage=check_webpage)\n",
    "print(check_user_on_a_webpage.getAttribute())\n",
    "type(check_user_on_a_webpage.getAttribute())     "
   ]
  },
  {
   "cell_type": "code",
   "execution_count": 22,
   "metadata": {},
   "outputs": [
    {
     "name": "stdout",
     "output_type": "stream",
     "text": [
      "[('Diptendra', 28, 'M', 'mobile', 13), (200, 2, 4, 'A', 'Y')]\n"
     ]
    },
    {
     "data": {
      "text/plain": [
       "list"
      ]
     },
     "execution_count": 22,
     "metadata": {},
     "output_type": "execute_result"
    }
   ],
   "source": [
    "class ad_with_target_user():\n",
    "    def __init__(self, internet_user, advertisement):\n",
    "        self.user = internet_user.getAttribute()\n",
    "        self.ad = advertisement.getAttribute()\n",
    "        self.ad_and_target_user = [self.user, self.ad]\n",
    "        \n",
    "    def getAttribute(self):\n",
    "        return self.ad_and_target_user\n",
    "    \n",
    "# Create an object of class webpage and check if all the functions are working or not    \n",
    "check_ad_with_target_user = ad_with_target_user(internet_user=check_user, advertisement=check_advertiser)\n",
    "print(check_ad_with_target_user.getAttribute())\n",
    "type(check_ad_with_target_user.getAttribute())   \n"
   ]
  },
  {
   "cell_type": "code",
   "execution_count": 33,
   "metadata": {},
   "outputs": [],
   "source": [
    "class one_ad_webpage_bidding():\n",
    "    def __init__(self, ad_with_target_user, user_on_a_webpage):\n",
    "        self.ad_with_target_user = ad_with_target_user.getAttribute()\n",
    "        self.user_on_a_webpage = user_on_a_webpage.getAttribute()\n",
    "        self.complete_transaction = \"N/A\"\n",
    "        \n",
    "    def transaction(self):\n",
    "        if (self.ad_with_target_user[1][0] > self.ad_with_target_user[1][1]) and (self.ad_with_target_user[1][1] >= self.user_on_a_webpage[1][2]):\n",
    "            self.complete_transaction = \"y\"\n",
    "        else:\n",
    "            self.complete_transaction = \"n\"\n",
    "        return self.complete_transaction  \n",
    "    \n",
    "    def transaction_details(self):\n",
    "        if self.complete_transaction == 'y':\n",
    "            self.transaction_details = [self.ad_with_target_user, self.user_on_a_webpage]\n",
    "        else:\n",
    "            self.transaction_details = ['no_transaction_happened', 'no_transaction_happened']\n",
    "        return self.transaction_details\n",
    "        \n",
    "    "
   ]
  },
  {
   "cell_type": "code",
   "execution_count": 34,
   "metadata": {},
   "outputs": [
    {
     "data": {
      "text/plain": [
       "['no_transaction_happened', 'no_transaction_happened']"
      ]
     },
     "execution_count": 34,
     "metadata": {},
     "output_type": "execute_result"
    }
   ],
   "source": [
    "bidding = one_ad_webpage_bidding(check_ad_with_target_user, check_user_on_a_webpage)\n",
    "a = bidding.transaction()\n",
    "b = bidding.transaction_details()\n",
    "b"
   ]
  },
  {
   "cell_type": "code",
   "execution_count": 47,
   "metadata": {},
   "outputs": [
    {
     "name": "stdout",
     "output_type": "stream",
     "text": [
      "The customer data is ('Diptendra', 22, 'M', 'mobile', 175) \n",
      "The webpage data is ('www.google.com', 'top_right', 0) \n",
      "------------\n",
      "The target user is ('Diptendra', 29, 'F', 'mobile', 84) \n",
      "The ad data is (200, 1, 2, 'T', 'N') \n",
      "------------\n",
      "Did the transaction happen? y \n",
      "The value of the transaction is [[('Diptendra', 29, 'F', 'mobile', 84), (200, 1, 2, 'T', 'N')], [('Diptendra', 22, 'M', 'mobile', 175), ('www.google.com', 'top_right', 0)]] \n",
      "------------\n"
     ]
    }
   ],
   "source": [
    "def main():\n",
    "    \n",
    "    #------------------------ Creation of the potential customer on a webpage ------------------------#\n",
    "    # Create a customer\n",
    "    potential_customer = Internet_User(\"Diptendra\", last_purchase_item=\"mobile\")\n",
    "    #print(potential_customer.getAttribute())\n",
    "    \n",
    "    # Create a webpage with an url\n",
    "    check_webpage = Webpage(url = \"www.google.com\")\n",
    "    #print(check_webpage.getAttribute())\n",
    "    \n",
    "    # Create a webpage on which an user lands up\n",
    "    check_user_on_a_webpage = user_on_a_webpage(internet_user=potential_customer, webpage=check_webpage)\n",
    "    print(\"The customer data is {0} \\nThe webpage data is {1} \\n------------\".format(check_user_on_a_webpage.getAttribute()[0], \n",
    "                                                                       check_user_on_a_webpage.getAttribute()[1]))\n",
    "\n",
    "    #----------------------- Creation of the advertisement with a target user ------------------------#\n",
    "    # Create an target user\n",
    "    target_user = Internet_User(\"Diptendra\", last_purchase_item=\"mobile\")\n",
    "    #print(target_user.getAttribute())\n",
    "\n",
    "    # Create an advertiser with the budget and max_prc\n",
    "    check_advertiser = Advertiser(budget= 200, max_prc=1)\n",
    "    #print(check_advertiser.getAttribute())\n",
    "    \n",
    "    # Merge the data of the ad with the target user\n",
    "    check_ad_with_target_user = ad_with_target_user(internet_user=target_user, advertisement=check_advertiser)\n",
    "    print(\"The target user is {0} \\nThe ad data is {1} \\n------------\".format(check_ad_with_target_user.getAttribute()[0], \n",
    "                                                                       check_ad_with_target_user.getAttribute()[1]))\n",
    "\n",
    "    \n",
    "    #---------------------- Bidding process between one customer and supplier -----------------------#\n",
    "    # One bid\n",
    "    bidding = one_ad_webpage_bidding(check_ad_with_target_user, check_user_on_a_webpage)\n",
    "    bool_transaction = bidding.transaction()\n",
    "    value_if_the_transaction_happened = bidding.transaction_details()\n",
    "    print(\"Did the transaction happen? {0} \\nThe value of the transaction is {1} \\n------------\".format(bool_transaction, \n",
    "                                                                                               value_if_the_transaction_happened))\n",
    "    \n",
    "main()"
   ]
  },
  {
   "cell_type": "code",
   "execution_count": null,
   "metadata": {},
   "outputs": [],
   "source": []
  }
 ],
 "metadata": {
  "kernelspec": {
   "display_name": "Python 3",
   "language": "python",
   "name": "python3"
  },
  "language_info": {
   "codemirror_mode": {
    "name": "ipython",
    "version": 3
   },
   "file_extension": ".py",
   "mimetype": "text/x-python",
   "name": "python",
   "nbconvert_exporter": "python",
   "pygments_lexer": "ipython3",
   "version": "3.6.5"
  }
 },
 "nbformat": 4,
 "nbformat_minor": 2
}
